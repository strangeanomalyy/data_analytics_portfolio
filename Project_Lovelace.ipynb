{
  "nbformat": 4,
  "nbformat_minor": 0,
  "metadata": {
    "colab": {
      "provenance": [],
      "authorship_tag": "ABX9TyPTxqW9SFcQgRU2r8hATRPi",
      "include_colab_link": true
    },
    "kernelspec": {
      "name": "python3",
      "display_name": "Python 3"
    },
    "language_info": {
      "name": "python"
    }
  },
  "cells": [
    {
      "cell_type": "markdown",
      "metadata": {
        "id": "view-in-github",
        "colab_type": "text"
      },
      "source": [
        "<a href=\"https://colab.research.google.com/github/strangeanomalyy/data_analytics_portfolio/blob/main/Project_Lovelace.ipynb\" target=\"_parent\"><img src=\"https://colab.research.google.com/assets/colab-badge.svg\" alt=\"Open In Colab\"/></a>"
      ]
    },
    {
      "cell_type": "markdown",
      "source": [
        "The problems solved here can be found here: https://projectlovelace.net/"
      ],
      "metadata": {
        "id": "KBM1CRbvQufR"
      }
    },
    {
      "cell_type": "markdown",
      "source": [
        "**<h3> Problem 1: Convert Fahrenheit to Celsius</h3>** "
      ],
      "metadata": {
        "id": "3k-_L4yR5OFL"
      }
    },
    {
      "cell_type": "code",
      "source": [
        "# formula: C = 5/9*(F-32)\n",
        "\n",
        "def fahrenheit_to_celsius(F):\n",
        "    C = 0\n",
        "    C = (5/9)*(F-32)\n",
        "    return C\n",
        "\n",
        "fahrenheit_to_celsius(float(input()))"
      ],
      "metadata": {
        "id": "rwQTqmwD6znD"
      },
      "execution_count": null,
      "outputs": []
    },
    {
      "cell_type": "markdown",
      "source": [
        "**<h3> Problem 2: Light time over a distance</h3>**\n"
      ],
      "metadata": {
        "id": "M7JmwWBy7bqv"
      }
    },
    {
      "cell_type": "code",
      "source": [
        "# formula: t = d/c\n",
        "\n",
        "def light_time(d):\n",
        "  c = 299792458 \n",
        "  t = d/c\n",
        "  return t \n",
        "\n",
        "light_time(376291900)"
      ],
      "metadata": {
        "id": "VlGwyBBe7asa"
      },
      "execution_count": null,
      "outputs": []
    },
    {
      "cell_type": "markdown",
      "source": [
        "**<h3> Problem 3: Plump Moose </h3>**"
      ],
      "metadata": {
        "id": "JtT26AoI_H_P"
      }
    },
    {
      "cell_type": "code",
      "source": [
        "# formula: mass = a*latitude +  b\n",
        "\n",
        "def moose_body_mass(latitude):\n",
        "  a = 2.757\n",
        "  b = 16.793\n",
        "  mass = (a*latitude) + b\n",
        "  return mass\n",
        "\n",
        "moose_body_mass(60.5)"
      ],
      "metadata": {
        "id": "XBefX3m0_M-h"
      },
      "execution_count": null,
      "outputs": []
    },
    {
      "cell_type": "markdown",
      "source": [
        "**<h3> Problem 4: NAND gate</h3>**\n"
      ],
      "metadata": {
        "id": "5gi4277ZAXDQ"
      }
    },
    {
      "cell_type": "code",
      "source": [
        "def NAND(a,b):\n",
        "  if a == 0 and b == 0: \n",
        "    return 1\n",
        "  elif a == 0 and b == 1: \n",
        "    return 1\n",
        "  elif a == 1 and b == 0:\n",
        "    return 1\n",
        "  elif a == 1 and b == 1: \n",
        "    return 0\n",
        "\n",
        "NAND(1,0)"
      ],
      "metadata": {
        "id": "MVNJKGAzJiaJ"
      },
      "execution_count": null,
      "outputs": []
    },
    {
      "cell_type": "markdown",
      "source": [
        "**<h3> Problem 5: Compound Interest</h3>**\n",
        "\n"
      ],
      "metadata": {
        "id": "HMSGuZkkAXEs"
      }
    },
    {
      "cell_type": "code",
      "source": [
        "# formula: M = m*(1+r)**n\n",
        "# m = amount, r = rate, n = years\n",
        "\n",
        "def compound_interest(m,r,n):\n",
        "  for i in range(0,n+1):\n",
        "    M = m*(1+r)**i\n",
        "  return M\n",
        "\n",
        "compound_interest(1000,0.07,25)"
      ],
      "metadata": {
        "id": "xB6zI0rpN6YB"
      },
      "execution_count": null,
      "outputs": []
    },
    {
      "cell_type": "markdown",
      "source": [
        "**<h3> Problem 6: Wind Chill Index</h3>**"
      ],
      "metadata": {
        "id": "Sdrk0TTzRA69"
      }
    },
    {
      "cell_type": "code",
      "source": [
        "# formula: Twc = 13.12 + 0.6215*Ta - 11.37*v**0.16 + 0.3965*Ta*v**0.16\n",
        "# Twc = T_wc, Ta = T_a, v = v \n",
        "\n",
        "def wind_chill(T_a,v):\n",
        "  T_wc = 13.12 + (0.6215*T_a) - (11.37*(v**0.16)) + (0.3965*(T_a)*(v**0.16))\n",
        "  return T_wc\n",
        "\n",
        "wind_chill(-25, 30)"
      ],
      "metadata": {
        "id": "DlWAGN0DQtEI"
      },
      "execution_count": null,
      "outputs": []
    },
    {
      "cell_type": "markdown",
      "source": [
        "**<h3> Problem 7: Flight Paths</h3>**"
      ],
      "metadata": {
        "id": "l_LJmiCiSyoM"
      }
    },
    {
      "cell_type": "code",
      "source": [
        " # formula: haversine_distance = 2*R*asin(sqrt((sin((phi_1-phi_2)/2)**2) + ((cos(phi_1)*cos(phi_2)*sin((lambda_1-lambda_2)/2)))))\n",
        " # (phi_1,lambda_1) = first coordinate\n",
        " # (phi_2, lambda_2) = second coordinate\n",
        " # formula: degrees to radians: pi/180\n",
        "\n",
        "from math import radians, sqrt, asin, sin, cos\n",
        "R  = 6372.1  # Radius of the Earth [km]\n",
        "\n",
        "def haversine_distance(phi_1,lambda_1,phi_2,lambda_2):\n",
        "  phi_1 = radians(phi_1)\n",
        "  phi_2 = radians(phi_2)\n",
        "  lambda_1 = radians(lambda_1)\n",
        "  lambda_2 = radians(lambda_2)\n",
        "  h = 2*R*asin(sqrt((sin((phi_1-phi_2)/2)**2) + ((cos(phi_1)*cos(phi_2)*(sin((lambda_1-lambda_2)/2)**2)))))\n",
        "  return h\n",
        "\n",
        "haversine_distance(46.283, 86.667, -48.877, -123.393)"
      ],
      "metadata": {
        "id": "mJ2g_i24SyS9"
      },
      "execution_count": null,
      "outputs": []
    },
    {
      "cell_type": "markdown",
      "source": [
        "**<h3> Problem 8: Approximating Pi</h3>**"
      ],
      "metadata": {
        "id": "O84pGYMmaoUX"
      }
    },
    {
      "cell_type": "code",
      "source": [
        "# formula: pi = sum((4*(-1)**k))/((2*k)+1)\n",
        "# since the formula given was for pi/4, needed to multiply both sides by 4 to get the formula for pi \n",
        "\n",
        "def almost_pi(k):\n",
        "  pi = []\n",
        "  for i in range(0,k):\n",
        "    k_input = (4*(-1)**i)/((2*i)+1)\n",
        "    pi.append(k_input)\n",
        "  return sum(pi)\n",
        "\n",
        "almost_pi(25)"
      ],
      "metadata": {
        "id": "rGBoGJAPaugO"
      },
      "execution_count": null,
      "outputs": []
    },
    {
      "cell_type": "markdown",
      "source": [
        "**<h3> Problem 9: Temperature Variations</h3>**"
      ],
      "metadata": {
        "id": "hckFgn4Mgrej"
      }
    },
    {
      "cell_type": "code",
      "source": [
        "# formulas:\n",
        "# mean = sum(T)/n \n",
        "# std = sqrt((1/n)*(T_i - mean)**2)\n",
        "\n",
        "def temperature_statistics(T):\n",
        "  n = len(T)\n",
        "  mean = sum(T)/n\n",
        "  var_list = []\n",
        "  for i in T:\n",
        "    var = (i-mean)**2\n",
        "    var_list.append(var)\n",
        "  std = sqrt((1/n)*sum(var_list))\n",
        "  return mean, std\n",
        "\n",
        "T = [-3.854508938406429,4.362355202459661,29.463146523450327,-12.369263249828983,16.98684697038972,19.17777469323992,27.753117031959455,-0.011861605223558058,-14.88143926662664,-0.18702703824231293,-0.33870893270882263]\n",
        "temperature_statistics(T)"
      ],
      "metadata": {
        "id": "1_DzEhOUgyCR"
      },
      "execution_count": null,
      "outputs": []
    },
    {
      "cell_type": "markdown",
      "source": [
        "**<h3> Problem 10: Blood Types</h3>**"
      ],
      "metadata": {
        "id": "RjXol8EgvFuo"
      }
    },
    {
      "cell_type": "code",
      "source": [
        "def survive(blood_type, donated_blood):\n",
        "  # creating dictionaries for each blood type\n",
        "  blood_types = {'O+':{'donor': ['O+','O-'],'recipient': ['AB+','A+','B+','O+']}, \n",
        "    'O-':{'donor':['O-'],'recipient': ['AB+','AB-','A+','A-','B+','B-','O+','O-']},\n",
        "    'A+':{'donor': ['A+','A-','O+','O-'],'recipient': ['AB+','A+']}, \n",
        "    'A-':{'donor':['A-','O-'],'recipient': ['AB+','AB-','A+','A-']},\n",
        "    'B+':{'donor': ['B+','O+'],'recipient': ['AB+','B']},\n",
        "    'B-':{'donor':['B-','O-'],'recipient': ['AB+','AB-','B+','B-']},\n",
        "    'AB+':{'donor': ['AB+','AB-','A+','A-','B+','B-','O+','O-'],'recipient': ['AB+']},\n",
        "    'AB-':{'donor':['AB-','A-','B-','O-'],'recipient': ['AB+','AB-']}}\n",
        "  available_blood = donated_blood\n",
        "  survivability = []\n",
        "  possible_donors = blood_types[blood_type]['donor']\n",
        "  for i in range(0,len(available_blood)):\n",
        "    if available_blood[i] in possible_donors: \n",
        "      survivability.append(1)\n",
        "    else:\n",
        "      survivability.append(0)\n",
        "  \n",
        "  if sum(survivability) > 0:\n",
        "    return True\n",
        "  else:\n",
        "    return False\n",
        "      \n",
        "survive('O-',[\"A-\", \"B+\", \"AB+\", \"O+\", \"B+\", \"B-\"])"
      ],
      "metadata": {
        "id": "7SMBD9kY_TbT"
      },
      "execution_count": null,
      "outputs": []
    }
  ]
}