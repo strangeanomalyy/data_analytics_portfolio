{
  "nbformat": 4,
  "nbformat_minor": 0,
  "metadata": {
    "colab": {
      "provenance": [],
      "authorship_tag": "ABX9TyOPtg2mEKn/CcEfSHfXd7Dk",
      "include_colab_link": true
    },
    "kernelspec": {
      "name": "python3",
      "display_name": "Python 3"
    },
    "language_info": {
      "name": "python"
    }
  },
  "cells": [
    {
      "cell_type": "markdown",
      "metadata": {
        "id": "view-in-github",
        "colab_type": "text"
      },
      "source": [
        "<a href=\"https://colab.research.google.com/github/strangeanomalyy/data_analytics_portfolio/blob/main/Project_Lovelace.ipynb\" target=\"_parent\"><img src=\"https://colab.research.google.com/assets/colab-badge.svg\" alt=\"Open In Colab\"/></a>"
      ]
    },
    {
      "cell_type": "markdown",
      "source": [
        "**<h3> Problem 1: Convert Fahrenheit to Celsius </h3>** "
      ],
      "metadata": {
        "id": "3k-_L4yR5OFL"
      }
    },
    {
      "cell_type": "code",
      "source": [
        "# formula is: C = 5/9(F-32)\n",
        "def fahrenheit_to_celsius(F):\n",
        "    C = 0\n",
        "    C = (5/9)*(F-32)\n",
        "    return C\n",
        "\n",
        "fahrenheit_to_celsius(float(input()))"
      ],
      "metadata": {
        "id": "rwQTqmwD6znD"
      },
      "execution_count": null,
      "outputs": []
    },
    {
      "cell_type": "markdown",
      "source": [
        "**<h3> Problem 2: Light time over a distance</h3>**\n"
      ],
      "metadata": {
        "id": "M7JmwWBy7bqv"
      }
    },
    {
      "cell_type": "code",
      "source": [
        "# formula: t = d/c\n",
        "def light_time(d):\n",
        "  c = 299792458 \n",
        "  t = d/c\n",
        "  return t \n",
        "\n",
        "light_time(376291900)"
      ],
      "metadata": {
        "id": "VlGwyBBe7asa"
      },
      "execution_count": null,
      "outputs": []
    },
    {
      "cell_type": "markdown",
      "source": [
        "**<h3> Problem 3: Plump Moose </h3>**\n",
        "* Bergmann's rule is a generalization and so it doesn't apply to every species. In fact many counter-examples to Bergmann's rule exist but it seems to hold true in many cases (Meiri and Dayan, 2003).\n",
        "* The original explanation given by Bergmann (1847) for why animals are larger in colder climates is due to the need to conserve heat. Since larger animals have a lower surface area to volume ratio, they lose less body heat per unit mass helping to keep them warmer when it's cold. More recent studies don't support this hypothesis though (Ashton et al., 2000)."
      ],
      "metadata": {
        "id": "JtT26AoI_H_P"
      }
    },
    {
      "cell_type": "code",
      "source": [
        "# formula: mass = a*latitude +  b\n",
        "\n",
        "def moose_body_mass(latitude):\n",
        "  a = 2.757\n",
        "  b = 16.793\n",
        "  mass = (a*latitude) + b\n",
        "  return mass\n",
        "\n",
        "moose_body_mass(60.5)"
      ],
      "metadata": {
        "colab": {
          "base_uri": "https://localhost:8080/"
        },
        "id": "XBefX3m0_M-h",
        "outputId": "787cccb6-7fa3-4fc0-ab6d-65e45c7c42c4"
      },
      "execution_count": 9,
      "outputs": [
        {
          "output_type": "execute_result",
          "data": {
            "text/plain": [
              "183.59150000000002"
            ]
          },
          "metadata": {},
          "execution_count": 9
        }
      ]
    },
    {
      "cell_type": "markdown",
      "source": [
        "**<h3> Problem 3: NAND gate</h3>**\n"
      ],
      "metadata": {
        "id": "5gi4277ZAXDQ"
      }
    },
    {
      "cell_type": "markdown",
      "source": [
        "**<h3> Problem 2: Light time over a distance</h3>**\n"
      ],
      "metadata": {
        "id": "HMSGuZkkAXEs"
      }
    },
    {
      "cell_type": "markdown",
      "source": [],
      "metadata": {
        "id": "A2cj9I_IAS5J"
      }
    }
  ]
}